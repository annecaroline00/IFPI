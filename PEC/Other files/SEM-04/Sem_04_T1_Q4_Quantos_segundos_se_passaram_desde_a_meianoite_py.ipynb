{
  "nbformat": 4,
  "nbformat_minor": 0,
  "metadata": {
    "colab": {
      "name": "Sem-04-T1-Q4 Quantos segundos se passaram desde a meianoite.py",
      "provenance": [],
      "collapsed_sections": [],
      "authorship_tag": "ABX9TyMYARi/Ie6bcvTa31Lfjll2",
      "include_colab_link": true
    },
    "kernelspec": {
      "name": "python3",
      "display_name": "Python 3"
    },
    "language_info": {
      "name": "python"
    }
  },
  "cells": [
    {
      "cell_type": "markdown",
      "metadata": {
        "id": "view-in-github",
        "colab_type": "text"
      },
      "source": [
        "<a href=\"https://colab.research.google.com/github/annecaroline00/projetos/blob/main/Sem_04_T1_Q4_Quantos_segundos_se_passaram_desde_a_meianoite_py.ipynb\" target=\"_parent\"><img src=\"https://colab.research.google.com/assets/colab-badge.svg\" alt=\"Open In Colab\"/></a>"
      ]
    },
    {
      "cell_type": "code",
      "execution_count": 3,
      "metadata": {
        "colab": {
          "base_uri": "https://localhost:8080/"
        },
        "id": "b-lC8EGn5_Jn",
        "outputId": "7e8a052e-a723-4f58-8eda-d8b76f9f6bf4"
      },
      "outputs": [
        {
          "output_type": "stream",
          "name": "stdout",
          "text": [
            "21\n",
            "45\n",
            "59\n",
            "78359\n"
          ]
        }
      ],
      "source": [
        "def passou_midnight (h, m, s):\n",
        "  return (h*3600)+ (m*60) + s\n",
        "\n",
        "if __name__ == \"__main__\":\n",
        "  h= int(input())\n",
        "  m = int(input())\n",
        "  s = int(input())\n",
        "  print(passou_midnight(h,m,s))"
      ]
    },
    {
      "cell_type": "code",
      "source": [
        ""
      ],
      "metadata": {
        "id": "wc5Y69lo8IU7"
      },
      "execution_count": null,
      "outputs": []
    }
  ]
}