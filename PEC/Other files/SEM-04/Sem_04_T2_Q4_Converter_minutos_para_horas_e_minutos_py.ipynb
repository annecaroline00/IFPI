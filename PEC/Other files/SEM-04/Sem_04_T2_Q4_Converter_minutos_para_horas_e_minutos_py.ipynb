{
  "nbformat": 4,
  "nbformat_minor": 0,
  "metadata": {
    "colab": {
      "name": "Sem-04-T2-Q4 Converter minutos para horas e minutos.py",
      "provenance": [],
      "collapsed_sections": [],
      "authorship_tag": "ABX9TyNzB3V7KI+0eclDHx/undQR",
      "include_colab_link": true
    },
    "kernelspec": {
      "name": "python3",
      "display_name": "Python 3"
    },
    "language_info": {
      "name": "python"
    }
  },
  "cells": [
    {
      "cell_type": "markdown",
      "metadata": {
        "id": "view-in-github",
        "colab_type": "text"
      },
      "source": [
        "<a href=\"https://colab.research.google.com/github/annecaroline00/projetos/blob/main/Sem_04_T2_Q4_Converter_minutos_para_horas_e_minutos_py.ipynb\" target=\"_parent\"><img src=\"https://colab.research.google.com/assets/colab-badge.svg\" alt=\"Open In Colab\"/></a>"
      ]
    },
    {
      "cell_type": "code",
      "execution_count": 18,
      "metadata": {
        "colab": {
          "base_uri": "https://localhost:8080/"
        },
        "id": "xCM-YtPHIEfv",
        "outputId": "c4d5d52f-38d7-4cb7-b541-ee0994816492"
      },
      "outputs": [
        {
          "output_type": "stream",
          "name": "stdout",
          "text": [
            "566\n",
            "9:26\n"
          ]
        }
      ],
      "source": [
        "\n",
        "def horas(minutos): #parametros\n",
        "  x = minutos//60     #transformando pra hooras\n",
        "  y = minutos%60      #o resto é minutos\n",
        "  return x,y\n",
        "\n",
        "minutos = int(input())\n",
        "h,m = horas(minutos)\n",
        "print(f'{h}:{m}')\n"
      ]
    },
    {
      "cell_type": "code",
      "source": [
        "56\n"
      ],
      "metadata": {
        "id": "dOsjSpMMJfvi"
      },
      "execution_count": null,
      "outputs": []
    }
  ]
}