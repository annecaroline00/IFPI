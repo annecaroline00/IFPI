{
  "nbformat": 4,
  "nbformat_minor": 0,
  "metadata": {
    "colab": {
      "name": "Sem-04-T1-Q2 .ipynb",
      "provenance": [],
      "authorship_tag": "ABX9TyPzfU0ZbsSZlyrmX6k4r7SO",
      "include_colab_link": true
    },
    "kernelspec": {
      "name": "python3",
      "display_name": "Python 3"
    },
    "language_info": {
      "name": "python"
    }
  },
  "cells": [
    {
      "cell_type": "markdown",
      "metadata": {
        "id": "view-in-github",
        "colab_type": "text"
      },
      "source": [
        "<a href=\"https://colab.research.google.com/github/annecaroline00/projetos/blob/main/Sem_04_T1_Q2_.ipynb\" target=\"_parent\"><img src=\"https://colab.research.google.com/assets/colab-badge.svg\" alt=\"Open In Colab\"/></a>"
      ]
    },
    {
      "cell_type": "code",
      "execution_count": 3,
      "metadata": {
        "colab": {
          "base_uri": "https://localhost:8080/"
        },
        "id": "z9-iLxo1y4rm",
        "outputId": "45ff44f0-6b19-409a-b433-39f6e6b0867f"
      },
      "outputs": [
        {
          "output_type": "stream",
          "name": "stdout",
          "text": [
            "4\n",
            "5\n",
            "5\n",
            "4.666666666666667\n"
          ]
        }
      ],
      "source": [
        "def med3(a, b, c):\n",
        "  print((a + b + c) / 3)\n",
        "\n",
        "if __name__ == \"__main__\":\n",
        "  a = int(input())\n",
        "  b = int(input())\n",
        "  c = int(input())\n",
        "  med3(a,b, c)"
      ]
    },
    {
      "cell_type": "code",
      "source": [
        ""
      ],
      "metadata": {
        "id": "5wWBV4e2zhDb"
      },
      "execution_count": null,
      "outputs": []
    }
  ]
}