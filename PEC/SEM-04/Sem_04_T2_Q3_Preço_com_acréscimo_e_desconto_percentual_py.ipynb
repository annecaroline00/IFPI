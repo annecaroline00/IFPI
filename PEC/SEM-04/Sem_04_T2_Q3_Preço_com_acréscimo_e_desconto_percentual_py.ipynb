{
  "nbformat": 4,
  "nbformat_minor": 0,
  "metadata": {
    "colab": {
      "name": "Sem-04-T2-Q3 Preço com acréscimo e desconto percentual.py",
      "provenance": [],
      "collapsed_sections": [],
      "authorship_tag": "ABX9TyMzINDlc7xX4P8ihk6F0ytP",
      "include_colab_link": true
    },
    "kernelspec": {
      "name": "python3",
      "display_name": "Python 3"
    },
    "language_info": {
      "name": "python"
    }
  },
  "cells": [
    {
      "cell_type": "markdown",
      "metadata": {
        "id": "view-in-github",
        "colab_type": "text"
      },
      "source": [
        "<a href=\"https://colab.research.google.com/github/annecaroline00/projetos/blob/main/Sem_04_T2_Q3_Pre%C3%A7o_com_acr%C3%A9scimo_e_desconto_percentual_py.ipynb\" target=\"_parent\"><img src=\"https://colab.research.google.com/assets/colab-badge.svg\" alt=\"Open In Colab\"/></a>"
      ]
    },
    {
      "cell_type": "code",
      "execution_count": 10,
      "metadata": {
        "colab": {
          "base_uri": "https://localhost:8080/"
        },
        "id": "1oQUsbRFQmNE",
        "outputId": "9d6b6160-f260-463a-c755-ccd3893aefce"
      },
      "outputs": [
        {
          "output_type": "stream",
          "name": "stdout",
          "text": [
            "55\n",
            "44\n",
            "79.20\n",
            "30.80\n"
          ]
        }
      ],
      "source": [
        "def precocomdesconto(preco,valor_percentual):\n",
        "  return preco * (1- (valor_percentual/100)) #desconto de 50%\n",
        "\n",
        "def precoacrescido(preco,valor_percentual):\n",
        "  return  preco * (1 + (valor_percentual/100))\n",
        "\n",
        "if  __name__ == \"__main__\":\n",
        "\n",
        "  preco = float(input())\n",
        "  valor_percentual = float(input())\n",
        "  print(f'{precoacrescido(preco,valor_percentual):0.2f}')\n",
        "  print(f'{precocomdesconto(preco,valor_percentual):0.2f}')\n",
        "\n",
        "  #  x = precocomdesconto(preco,valor_percentual)\n",
        "  #y = precoacrescido(preco,valor_percentual)\n",
        "  #print(f'{x:10.2f}')\n",
        "  #print(f'{y:10.2f}')"
      ]
    }
  ]
}