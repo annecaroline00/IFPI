{
  "nbformat": 4,
  "nbformat_minor": 0,
  "metadata": {
    "colab": {
      "name": "Sem-04-T2-Q1 Mostrar valor calculado na função.py",
      "provenance": [],
      "authorship_tag": "ABX9TyMas3wikZ6wK5rXZwO2x4TR",
      "include_colab_link": true
    },
    "kernelspec": {
      "name": "python3",
      "display_name": "Python 3"
    },
    "language_info": {
      "name": "python"
    }
  },
  "cells": [
    {
      "cell_type": "markdown",
      "metadata": {
        "id": "view-in-github",
        "colab_type": "text"
      },
      "source": [
        "<a href=\"https://colab.research.google.com/github/annecaroline00/projetos/blob/main/Sem_04_T2_Q1_Mostrar_valor_calculado_na_fun%C3%A7%C3%A3o_py.ipynb\" target=\"_parent\"><img src=\"https://colab.research.google.com/assets/colab-badge.svg\" alt=\"Open In Colab\"/></a>"
      ]
    },
    {
      "cell_type": "code",
      "execution_count": 2,
      "metadata": {
        "colab": {
          "base_uri": "https://localhost:8080/"
        },
        "id": "TSsmhFt9AtlG",
        "outputId": "9cc105d3-5bf0-4b43-c784-9d0965714fb0"
      },
      "outputs": [
        {
          "output_type": "stream",
          "name": "stdout",
          "text": [
            "5\n",
            "5\n",
            "5\n",
            "30\n"
          ]
        }
      ],
      "source": [
        "def calcular(a, b, c):\n",
        "    return 2 * a + 5 * b - c\n",
        "\n",
        "if __name__ == \"__main__\":\n",
        "  a = int(input())\n",
        "  b = int(input())\n",
        "  c = int(input())\n",
        "  print (calcular(a, b, c))  \n",
        "  "
      ]
    },
    {
      "cell_type": "code",
      "source": [
        ""
      ],
      "metadata": {
        "id": "jDtP0KgKA_ta"
      },
      "execution_count": null,
      "outputs": []
    }
  ]
}