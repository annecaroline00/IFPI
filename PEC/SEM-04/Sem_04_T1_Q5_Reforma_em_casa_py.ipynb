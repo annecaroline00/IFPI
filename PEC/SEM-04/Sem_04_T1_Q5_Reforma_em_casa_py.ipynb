{
  "nbformat": 4,
  "nbformat_minor": 0,
  "metadata": {
    "colab": {
      "name": "Sem-04-T1-Q5 Reforma em casa.py",
      "provenance": [],
      "collapsed_sections": [],
      "authorship_tag": "ABX9TyPnBCpvjX/2+b411KZH5jIi",
      "include_colab_link": true
    },
    "kernelspec": {
      "name": "python3",
      "display_name": "Python 3"
    },
    "language_info": {
      "name": "python"
    }
  },
  "cells": [
    {
      "cell_type": "markdown",
      "metadata": {
        "id": "view-in-github",
        "colab_type": "text"
      },
      "source": [
        "<a href=\"https://colab.research.google.com/github/annecaroline00/projetos/blob/main/Sem_04_T1_Q5_Reforma_em_casa_py.ipynb\" target=\"_parent\"><img src=\"https://colab.research.google.com/assets/colab-badge.svg\" alt=\"Open In Colab\"/></a>"
      ]
    },
    {
      "cell_type": "code",
      "execution_count": 4,
      "metadata": {
        "colab": {
          "base_uri": "https://localhost:8080/"
        },
        "id": "cj4clJDu8ZuB",
        "outputId": "c3fc7f22-edfe-4b25-f385-c3d7dcb9e81a"
      },
      "outputs": [
        {
          "output_type": "stream",
          "name": "stdout",
          "text": [
            "5\n",
            "5\n",
            "5\n",
            "25.0\n",
            "125.0\n",
            "100.0\n"
          ]
        }
      ],
      "source": [
        "def area_do_piso (l, c):\n",
        "  return l*c\n",
        "\n",
        "def volume_sala(l, c, a):\n",
        "  return l*c*a\n",
        "\n",
        "def area_das_paredes_da_sala(l, c, a):\n",
        "  return 2 *a*l + 2*a*c\n",
        "\n",
        "if __name__ == \"__main__\":\n",
        "  a = float(input())\n",
        "  l = float(input())\n",
        "  c = float(input())\n",
        "  print(area_do_piso(l,c))  #sempre colocar o formato das funções corretos\n",
        "  print(volume_sala(l,c,a)) \n",
        "  print(area_das_paredes_da_sala(l,c,a))"
      ]
    },
    {
      "cell_type": "code",
      "source": [
        ""
      ],
      "metadata": {
        "id": "EeRY-XKg9Uty"
      },
      "execution_count": null,
      "outputs": []
    }
  ]
}