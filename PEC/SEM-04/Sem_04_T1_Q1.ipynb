{
  "nbformat": 4,
  "nbformat_minor": 0,
  "metadata": {
    "colab": {
      "name": "Sem-04-T1-Q1.ipynb",
      "provenance": [],
      "collapsed_sections": [],
      "authorship_tag": "ABX9TyPF+9+jYihRVFRTy9yXSas9",
      "include_colab_link": true
    },
    "kernelspec": {
      "name": "python3",
      "display_name": "Python 3"
    },
    "language_info": {
      "name": "python"
    }
  },
  "cells": [
    {
      "cell_type": "markdown",
      "metadata": {
        "id": "view-in-github",
        "colab_type": "text"
      },
      "source": [
        "<a href=\"https://colab.research.google.com/github/annecaroline00/projetos/blob/main/Sem_04_T1_Q1.ipynb\" target=\"_parent\"><img src=\"https://colab.research.google.com/assets/colab-badge.svg\" alt=\"Open In Colab\"/></a>"
      ]
    },
    {
      "cell_type": "code",
      "execution_count": null,
      "metadata": {
        "id": "0FKVcFqmYBa8"
      },
      "outputs": [],
      "source": [
        "def showFormatDate(d,m, a):\n",
        "  print(f'{d}/{m}/{a}')\n",
        "\n",
        "if __name__ == \"__main__\":\n",
        "  day = int(input())\n",
        "  month = int(input())\n",
        "  year = int(input())\n",
        "  showFormatDate(day,month, year)\n",
        "\n"
      ]
    },
    {
      "cell_type": "code",
      "source": [
        ""
      ],
      "metadata": {
        "id": "C7lpvmacem_E"
      },
      "execution_count": null,
      "outputs": []
    }
  ]
}