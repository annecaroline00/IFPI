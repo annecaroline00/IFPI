{
  "nbformat": 4,
  "nbformat_minor": 0,
  "metadata": {
    "colab": {
      "name": "Sem-04-T1-Q3 Cubo de um número.py",
      "provenance": [],
      "collapsed_sections": [],
      "authorship_tag": "ABX9TyNMHD/dp6bvawmdWtOYMuKv",
      "include_colab_link": true
    },
    "kernelspec": {
      "name": "python3",
      "display_name": "Python 3"
    },
    "language_info": {
      "name": "python"
    }
  },
  "cells": [
    {
      "cell_type": "markdown",
      "metadata": {
        "id": "view-in-github",
        "colab_type": "text"
      },
      "source": [
        "<a href=\"https://colab.research.google.com/github/annecaroline00/projetos/blob/main/Sem_04_T1_Q3_Cubo_de_um_n%C3%BAmero_py.ipynb\" target=\"_parent\"><img src=\"https://colab.research.google.com/assets/colab-badge.svg\" alt=\"Open In Colab\"/></a>"
      ]
    },
    {
      "cell_type": "code",
      "execution_count": 18,
      "metadata": {
        "colab": {
          "base_uri": "https://localhost:8080/"
        },
        "id": "Jg-0BpnS2XK7",
        "outputId": "97df3e72-64b5-4f85-a88f-a3b1c96538d0"
      },
      "outputs": [
        {
          "output_type": "stream",
          "name": "stdout",
          "text": [
            "5\n",
            "125\n"
          ]
        }
      ],
      "source": [
        "def cubo_do_numero (n):\n",
        "  return n**3\n",
        "\n",
        "if __name__ == \"__main__\":\n",
        "  a = int(input())\n",
        "  print(cubo_do_numero(a))"
      ]
    },
    {
      "cell_type": "code",
      "source": [
        ""
      ],
      "metadata": {
        "id": "jsFMar8v6uXu"
      },
      "execution_count": null,
      "outputs": []
    },
    {
      "cell_type": "code",
      "source": [
        ""
      ],
      "metadata": {
        "id": "NPJq8Qhy6vUj"
      },
      "execution_count": null,
      "outputs": []
    }
  ]
}