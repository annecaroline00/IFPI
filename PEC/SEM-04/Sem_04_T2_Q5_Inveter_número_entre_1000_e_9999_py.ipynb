{
  "nbformat": 4,
  "nbformat_minor": 0,
  "metadata": {
    "colab": {
      "name": "Sem-04-T2-Q5 Inveter número entre 1000 e 9999.py",
      "provenance": [],
      "collapsed_sections": [],
      "authorship_tag": "ABX9TyNIAdQNz/O9+ZCpmV0VeTEP",
      "include_colab_link": true
    },
    "kernelspec": {
      "name": "python3",
      "display_name": "Python 3"
    },
    "language_info": {
      "name": "python"
    }
  },
  "cells": [
    {
      "cell_type": "markdown",
      "metadata": {
        "id": "view-in-github",
        "colab_type": "text"
      },
      "source": [
        "<a href=\"https://colab.research.google.com/github/annecaroline00/projetos/blob/main/Sem_04_T2_Q5_Inveter_n%C3%BAmero_entre_1000_e_9999_py.ipynb\" target=\"_parent\"><img src=\"https://colab.research.google.com/assets/colab-badge.svg\" alt=\"Open In Colab\"/></a>"
      ]
    },
    {
      "cell_type": "code",
      "execution_count": 5,
      "metadata": {
        "colab": {
          "base_uri": "https://localhost:8080/"
        },
        "id": "Su95M7i7UDhy",
        "outputId": "7120de57-4b6b-48ec-d8d4-b738ee5d5e33"
      },
      "outputs": [
        {
          "output_type": "stream",
          "name": "stdout",
          "text": [
            "2222\n",
            "2222\n"
          ]
        }
      ],
      "source": [
        "#Leia um número inteiro entre 1000 e 9999 e mostre o número na ordem inversa. Por exemplo, se o número lido for 5678 deverá ser mostrado 8765.\n",
        "\n",
        "def invertido(number):\n",
        "  #5785 (a4=5, a3=7,a2=8,a1=5)\n",
        "\n",
        "  a1 = number%10 # % = fica o resto da divisao por dez\n",
        "  a2 = (number//10)%10 # % = calcula o resto da divisao por 10\n",
        "  a3 = (number//100)%10 # % = calcula o resto da divisao dele por 100\n",
        "  a4 = number//1000 # fica so a4\n",
        " \n",
        "  return (a1*1000)+(a2*100)+(a3*10)+a4\n",
        "\n",
        "if __name__ == \"__main__\":\n",
        "  number = int(input())\n",
        "  print (invertido(number))"
      ]
    },
    {
      "cell_type": "code",
      "source": [
        "5"
      ],
      "metadata": {
        "id": "yc8DZNSDWmo_"
      },
      "execution_count": null,
      "outputs": []
    }
  ]
}