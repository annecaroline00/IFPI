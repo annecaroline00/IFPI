{
  "nbformat": 4,
  "nbformat_minor": 0,
  "metadata": {
    "colab": {
      "name": "Sem-04-T2-Q2 Área e perímetro do quadrado.py",
      "provenance": [],
      "collapsed_sections": [],
      "authorship_tag": "ABX9TyM3dmvr+og2EyqbKoq+cL+a",
      "include_colab_link": true
    },
    "kernelspec": {
      "name": "python3",
      "display_name": "Python 3"
    },
    "language_info": {
      "name": "python"
    }
  },
  "cells": [
    {
      "cell_type": "markdown",
      "metadata": {
        "id": "view-in-github",
        "colab_type": "text"
      },
      "source": [
        "<a href=\"https://colab.research.google.com/github/annecaroline00/projetos/blob/main/Sem_04_T2_Q2_%C3%81rea_e_per%C3%ADmetro_do_quadrado_py.ipynb\" target=\"_parent\"><img src=\"https://colab.research.google.com/assets/colab-badge.svg\" alt=\"Open In Colab\"/></a>"
      ]
    },
    {
      "cell_type": "code",
      "execution_count": 12,
      "metadata": {
        "colab": {
          "base_uri": "https://localhost:8080/"
        },
        "id": "xV7BprI5BuOi",
        "outputId": "a5bdad0f-31b8-4d1b-b8eb-5c3c0127082b"
      },
      "outputs": [
        {
          "output_type": "stream",
          "name": "stdout",
          "text": [
            "5\n",
            "   25.0000\n",
            "   20.0000\n"
          ]
        }
      ],
      "source": [
        "#Escreva um programa que ler o valor do lado de um quadrado. Calcule o mostre a área e o perímetro desse quadrado\n",
        "        #OBS: Mostre o resultado com 4 casas decimais, alinhado à direta com 10 espaços na tela.\n",
        "\n",
        "def area(l):\n",
        "  return l**2\n",
        "\n",
        "def perimetro(l):\n",
        "  return 4*l\n",
        "\n",
        "if __name__ == \"__main__\":\n",
        "  l = float(input())\n",
        "  dezEspacos = 10*\" \"\n",
        "  print (f'{area(l):10.4f}')\n",
        "  print (f'{perimetro(l):10.4f}')   "
      ]
    },
    {
      "cell_type": "code",
      "source": [
        ""
      ],
      "metadata": {
        "id": "CL4RYJHeCf1T"
      },
      "execution_count": null,
      "outputs": []
    }
  ]
}